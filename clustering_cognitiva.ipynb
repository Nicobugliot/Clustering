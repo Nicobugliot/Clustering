{
 "cells": [
  {
   "cell_type": "code",
   "execution_count": 19,
   "metadata": {},
   "outputs": [],
   "source": [
    "import pandas as pd\n",
    "import numpy as np\n",
    "from sklearn.feature_extraction.text import TfidfVectorizer, CountVectorizer\n",
    "from sklearn.manifold import TSNE\n",
    "from sklearn.decomposition import TruncatedSVD\n",
    "import plotly.offline\n",
    "import plotly.graph_objs as go"
   ]
  },
  {
   "cell_type": "code",
   "execution_count": 20,
   "metadata": {},
   "outputs": [],
   "source": [
    "#df = pd.read_csv(\"logs_limpios.csv\")\n",
    "df_caja = pd.read_excel(\"la_caja_logs.xlsx\")"
   ]
  },
  {
   "cell_type": "code",
   "execution_count": null,
   "metadata": {},
   "outputs": [],
   "source": []
  },
  {
   "cell_type": "code",
   "execution_count": 3,
   "metadata": {},
   "outputs": [],
   "source": [
    "#text_list_complete = df_caja[\"Pregunta\"].to_list()"
   ]
  },
  {
   "cell_type": "markdown",
   "metadata": {},
   "source": [
    "---\n",
    "> ### 0: ***Preparación de la data para el ploteo***\n",
    "---"
   ]
  },
  {
   "cell_type": "markdown",
   "metadata": {},
   "source": [
    "---\n",
    "> #### 0.1: ***Limpieza de los ejemplos***\n",
    "---"
   ]
  },
  {
   "cell_type": "code",
   "execution_count": 22,
   "metadata": {},
   "outputs": [],
   "source": [
    "df_caja[\"Pregunta\"] = df_caja[\"Pregunta\"].apply(lambda x: ''.join([i for i in x if not i.isdigit()]))"
   ]
  },
  {
   "cell_type": "code",
   "execution_count": 23,
   "metadata": {},
   "outputs": [],
   "source": [
    "def data_plot_image(data_plot, model_cluster, text):\n",
    "    pos_x = [x[0] for x in data_plot]\n",
    "    pos_y = [x[1] for x in data_plot]\n",
    "    \n",
    "    dic_plot = {}\n",
    "\n",
    "    for i in range(len(model_cluster)):\n",
    "        if model_cluster[i] not in dic_plot:\n",
    "            dic_plot[model_cluster[i]] = [[pos_x[i]],[pos_y[i]], [model_cluster[i]], [text[i]]]\n",
    "        # Agrego la posición en X\n",
    "        dic_plot[model_cluster[i]][0].append(pos_x[i])  \n",
    "        # Agrego la posición en Y\n",
    "        dic_plot[model_cluster[i]][1].append(pos_y[i])    \n",
    "        # Agrego el número de \"cluster\"\n",
    "        dic_plot[model_cluster[i]][2].append(model_cluster[i])\n",
    "        # Agrego la pregunta\n",
    "        dic_plot[model_cluster[i]][3].append(text[i])\n",
    "        \n",
    "    # Cantidad de intenciones detectadas\n",
    "    amount_clusters = len(dic_plot.keys())\n",
    "\n",
    "    plot = []\n",
    "    for intents in dic_plot:\n",
    "        trace = go.Scatter(\n",
    "            x = dic_plot[intents][0],\n",
    "            y = dic_plot[intents][1],\n",
    "            text = dic_plot[intents][3],\n",
    "            name = str(intents),\n",
    "            mode = 'markers',\n",
    "            marker = dict(\n",
    "                size = 7\n",
    "            )\n",
    "        )\n",
    "        plot.append(trace)\n",
    "        \n",
    "    print(f\"---> La cantidad de clusters detectados fueron de {amount_clusters}\")    \n",
    "    return plot"
   ]
  },
  {
   "cell_type": "markdown",
   "metadata": {},
   "source": [
    "---\n",
    "> ### 1: ***Stemizar y sacar las stopwords del texto***\n",
    "---"
   ]
  },
  {
   "cell_type": "code",
   "execution_count": 34,
   "metadata": {},
   "outputs": [],
   "source": [
    "from nltk import word_tokenize\n",
    "from nltk.stem import SnowballStemmer\n",
    "import nltk\n",
    "from nltk.corpus import stopwords\n",
    "\n",
    "stemmer = SnowballStemmer('spanish')\n",
    "cachedStopWords = stopwords.words('spanish')\n",
    "\n",
    "stopwords_nico = ['buenos','dias', 'hola', 'gracias', 'muchas', 'ok']\n",
    "cachedStopWords.extend(stopwords_nico)\n",
    "\n",
    "\n",
    "def clean_text(text_list):\n",
    "    for i in range(len(text_list)):\n",
    "        text = ' '.join([word for word in text_list[i].split() if word.lower() not in cachedStopWords]) #[stemmer.stem(word) for word in text_list[i].split() if word not in cachedStopWords])\n",
    "        text_list[i] = text\n",
    "    return text_list"
   ]
  },
  {
   "cell_type": "code",
   "execution_count": 35,
   "metadata": {},
   "outputs": [],
   "source": [
    "text_list = clean_text(text_list_complete)"
   ]
  },
  {
   "cell_type": "markdown",
   "metadata": {},
   "source": [
    "---\n",
    "> ### 2: ***Vectorizar el texto utilizando Tf-idf (TfidfVectorizer) o BOW (CountVectorizer)***\n",
    "\n",
    "### Diferencias entre las dos\n",
    "---"
   ]
  },
  {
   "cell_type": "code",
   "execution_count": 36,
   "metadata": {},
   "outputs": [],
   "source": [
    "vectorizer_tfidf = TfidfVectorizer(ngram_range=(1,2))\n",
    "vectorizer_bow = CountVectorizer(ngram_range=(1,1))"
   ]
  },
  {
   "cell_type": "code",
   "execution_count": 37,
   "metadata": {},
   "outputs": [],
   "source": [
    "data = vectorizer_tfidf.fit_transform(text_list)"
   ]
  },
  {
   "cell_type": "markdown",
   "metadata": {},
   "source": [
    "---\n",
    "> ### ***Gráfico de energía***\n",
    "---"
   ]
  },
  {
   "cell_type": "code",
   "execution_count": null,
   "metadata": {},
   "outputs": [],
   "source": [
    "from scipy.sparse.linalg import eigs\n",
    "\n",
    "matrix = np.matmul(data.toarray(), data.toarray().transpose())\n",
    "vals, vecs = eigs(matrix, 20)"
   ]
  },
  {
   "cell_type": "code",
   "execution_count": null,
   "metadata": {},
   "outputs": [],
   "source": [
    "import matplotlib.pyplot as plt\n",
    "\n",
    "plt.figure(figsize=(20,10))\n",
    "plt.plot(vals);"
   ]
  },
  {
   "cell_type": "markdown",
   "metadata": {},
   "source": [
    "---\n",
    "> ### 3: ***Aplicar SVD/PCA y reducir las dimensiones dependiendo del gráfico de energía***\n",
    "---"
   ]
  },
  {
   "cell_type": "code",
   "execution_count": 38,
   "metadata": {},
   "outputs": [],
   "source": [
    "svd = TruncatedSVD(n_components=3)\n",
    "svd_truncated = svd.fit_transform(data)"
   ]
  },
  {
   "cell_type": "markdown",
   "metadata": {},
   "source": [
    "---\n",
    "> ### 3.1: ***Aplicar T-SNE para reducir todo a 2 dimensiones***\n",
    "---"
   ]
  },
  {
   "cell_type": "code",
   "execution_count": 39,
   "metadata": {},
   "outputs": [],
   "source": [
    "# method = 'exact' corre un algorito más exacto pero de complejidad O(N^2)\n",
    "\n",
    "data_2d = TSNE(n_components=2, n_iter=1000, metric='cosine')\n",
    "data_2d = data_2d.fit_transform(svd_truncated)\n",
    "data_plot = data_2d"
   ]
  },
  {
   "cell_type": "markdown",
   "metadata": {},
   "source": [
    "---\n",
    "> ### 4: ***Ploteo la data para ver qué algoritmo de clustering utilizar***\n",
    "---"
   ]
  },
  {
   "cell_type": "code",
   "execution_count": 40,
   "metadata": {},
   "outputs": [
    {
     "data": {
      "text/plain": [
       "'file:///Users/nicolas.bugliot/Documents/Trabajo/ML/Clustering/temp-plot.html'"
      ]
     },
     "execution_count": 40,
     "metadata": {},
     "output_type": "execute_result"
    }
   ],
   "source": [
    "plot = []\n",
    "pos_x = [x[0] for x in data_plot]\n",
    "pos_y = [x[1] for x in data_plot]\n",
    "\n",
    "trace = go.Scatter(\n",
    "    x = pos_x,\n",
    "    y = pos_y,\n",
    "    text = df_caja[\"Pregunta\"].to_list(),\n",
    "    mode = 'markers',\n",
    "    marker = dict(\n",
    "        size = 4\n",
    "    )\n",
    ")\n",
    "plot.append(trace)\n",
    "plotly.offline.plot(plot)"
   ]
  },
  {
   "cell_type": "markdown",
   "metadata": {},
   "source": [
    "---\n",
    "> ### Tipo de clustering: ***K-MEANS++***\n",
    "---"
   ]
  },
  {
   "cell_type": "code",
   "execution_count": null,
   "metadata": {},
   "outputs": [],
   "source": [
    "from sklearn.cluster import KMeans\n",
    "kmeans = KMeans(n_clusters=15, random_state=0).fit_predict(data_plot)"
   ]
  },
  {
   "cell_type": "code",
   "execution_count": 240,
   "metadata": {},
   "outputs": [
    {
     "name": "stdout",
     "output_type": "stream",
     "text": [
      "---> La cantidad de clusters detectados fueron de 15\n"
     ]
    }
   ],
   "source": [
    "plotly.offline.plot(data_plot_image(data_plot, kmeans, text_list_complete));"
   ]
  },
  {
   "cell_type": "markdown",
   "metadata": {},
   "source": [
    "---\n",
    "> ### Tipo de clustering: ***Spectral Clustering***\n",
    "---"
   ]
  },
  {
   "cell_type": "code",
   "execution_count": 236,
   "metadata": {},
   "outputs": [
    {
     "name": "stdout",
     "output_type": "stream",
     "text": [
      "CPU times: user 35.7 s, sys: 6.44 s, total: 42.1 s\n",
      "Wall time: 10.7 s\n"
     ]
    }
   ],
   "source": [
    "%%time\n",
    "from sklearn.cluster import SpectralClustering\n",
    "spectral_clustering = SpectralClustering(n_clusters=15, assign_labels=\"discretize\", random_state=0).fit(data_plot)"
   ]
  },
  {
   "cell_type": "code",
   "execution_count": 241,
   "metadata": {},
   "outputs": [
    {
     "name": "stdout",
     "output_type": "stream",
     "text": [
      "---> La cantidad de clusters detectados fueron de 15\n"
     ]
    }
   ],
   "source": [
    "plotly.offline.plot(data_plot_image(data_plot, spectral_clustering.labels_, text_list_complete));"
   ]
  },
  {
   "cell_type": "markdown",
   "metadata": {},
   "source": [
    "---\n",
    "> ### Tipo de clustering: ***DBSCAN***\n",
    "---"
   ]
  },
  {
   "cell_type": "code",
   "execution_count": 242,
   "metadata": {},
   "outputs": [],
   "source": [
    "from sklearn.cluster import DBSCAN"
   ]
  },
  {
   "cell_type": "code",
   "execution_count": 247,
   "metadata": {},
   "outputs": [],
   "source": [
    "# eps es el hiper-parámetro que define el radio del radar.\n",
    "dbscan_clustering = DBSCAN(eps=4, min_samples=15).fit(data_plot)"
   ]
  },
  {
   "cell_type": "code",
   "execution_count": 248,
   "metadata": {},
   "outputs": [
    {
     "name": "stdout",
     "output_type": "stream",
     "text": [
      "---> La cantidad de clusters detectados fueron de 7\n"
     ]
    }
   ],
   "source": [
    "plotly.offline.plot(data_plot_image(data_plot, dbscan_clustering.labels_, text_list_complete));"
   ]
  },
  {
   "cell_type": "markdown",
   "metadata": {},
   "source": [
    "---\n",
    "> ### Tipo de clustering: ***HDBSCAN***\n",
    "---"
   ]
  },
  {
   "cell_type": "code",
   "execution_count": 249,
   "metadata": {},
   "outputs": [],
   "source": [
    "import hdbscan"
   ]
  },
  {
   "cell_type": "code",
   "execution_count": 250,
   "metadata": {},
   "outputs": [
    {
     "name": "stdout",
     "output_type": "stream",
     "text": [
      "CPU times: user 39.8 ms, sys: 6.94 ms, total: 46.7 ms\n",
      "Wall time: 45.6 ms\n"
     ]
    }
   ],
   "source": [
    "%%time\n",
    "hdbscan_cluster = hdbscan.HDBSCAN()\n",
    "hdbscan_cluster = hdbscan_cluster.fit(data_plot)"
   ]
  },
  {
   "cell_type": "code",
   "execution_count": 251,
   "metadata": {},
   "outputs": [
    {
     "name": "stdout",
     "output_type": "stream",
     "text": [
      "---> La cantidad de clusters detectados fueron de 17\n"
     ]
    }
   ],
   "source": [
    "plotly.offline.plot(data_plot_image(data_plot, hdbscan_cluster.labels_, text_list_complete));"
   ]
  },
  {
   "cell_type": "markdown",
   "metadata": {},
   "source": [
    "---\n",
    "> ### Clustering: ***Datos en N dimensiones***\n",
    "---"
   ]
  },
  {
   "cell_type": "code",
   "execution_count": null,
   "metadata": {},
   "outputs": [],
   "source": []
  },
  {
   "cell_type": "code",
   "execution_count": null,
   "metadata": {},
   "outputs": [],
   "source": []
  },
  {
   "cell_type": "code",
   "execution_count": null,
   "metadata": {},
   "outputs": [],
   "source": []
  },
  {
   "cell_type": "code",
   "execution_count": null,
   "metadata": {},
   "outputs": [],
   "source": []
  },
  {
   "cell_type": "code",
   "execution_count": null,
   "metadata": {},
   "outputs": [],
   "source": []
  },
  {
   "cell_type": "code",
   "execution_count": 342,
   "metadata": {},
   "outputs": [],
   "source": [
    "data_complete = vectorizer_tfidf.fit_transform(text_list)"
   ]
  },
  {
   "cell_type": "code",
   "execution_count": 343,
   "metadata": {},
   "outputs": [],
   "source": [
    "svd_complete = TruncatedSVD(n_components=30, n_iter=100)\n",
    "svd_truncated = svd_complete.fit_transform(data_complete)"
   ]
  },
  {
   "cell_type": "code",
   "execution_count": 344,
   "metadata": {},
   "outputs": [],
   "source": [
    "from sklearn.cluster import DBSCAN\n",
    "# eps es el hiper-parámetro que define el radio del radar.\n",
    "dbscan_complete = DBSCAN(eps=0.1, min_samples=10).fit(svd_truncated)"
   ]
  },
  {
   "cell_type": "code",
   "execution_count": 345,
   "metadata": {},
   "outputs": [],
   "source": [
    "import hdbscan\n",
    "hdbscan_cluster = hdbscan.HDBSCAN()\n",
    "hdbscan_cluster_complete = hdbscan_cluster.fit(svd_truncated)"
   ]
  },
  {
   "cell_type": "code",
   "execution_count": 346,
   "metadata": {},
   "outputs": [],
   "source": [
    "a = dbscan_complete.labels_"
   ]
  },
  {
   "cell_type": "code",
   "execution_count": 347,
   "metadata": {},
   "outputs": [],
   "source": [
    "l = []\n",
    "for i in a:\n",
    "    if i not in l:\n",
    "        l.append(i)"
   ]
  },
  {
   "cell_type": "code",
   "execution_count": 348,
   "metadata": {},
   "outputs": [
    {
     "data": {
      "text/plain": [
       "[-1, 0, 1, 5, 2, 3, 4, 6]"
      ]
     },
     "execution_count": 348,
     "metadata": {},
     "output_type": "execute_result"
    }
   ],
   "source": [
    "l"
   ]
  },
  {
   "cell_type": "code",
   "execution_count": 349,
   "metadata": {},
   "outputs": [
    {
     "ename": "SyntaxError",
     "evalue": "unexpected EOF while parsing (<ipython-input-349-3ea0f086fcd5>, line 2)",
     "output_type": "error",
     "traceback": [
      "\u001b[0;36m  File \u001b[0;32m\"<ipython-input-349-3ea0f086fcd5>\"\u001b[0;36m, line \u001b[0;32m2\u001b[0m\n\u001b[0;31m    #print(i)\u001b[0m\n\u001b[0m             ^\u001b[0m\n\u001b[0;31mSyntaxError\u001b[0m\u001b[0;31m:\u001b[0m unexpected EOF while parsing\n"
     ]
    }
   ],
   "source": [
    "for i in dbscan_complete.labels_:\n",
    "    #print(i)"
   ]
  },
  {
   "cell_type": "code",
   "execution_count": 350,
   "metadata": {},
   "outputs": [],
   "source": [
    "dataframe_preguntas = pd.DataFrame(text_list_complete)\n",
    "dataframe_preguntas[\"cluster\"] = dbscan_complete.labels_"
   ]
  },
  {
   "cell_type": "code",
   "execution_count": 351,
   "metadata": {},
   "outputs": [],
   "source": [
    "dataframe_preguntas[\"cantidad\"] = 1"
   ]
  },
  {
   "cell_type": "code",
   "execution_count": 352,
   "metadata": {},
   "outputs": [
    {
     "data": {
      "text/html": [
       "<div>\n",
       "<style scoped>\n",
       "    .dataframe tbody tr th:only-of-type {\n",
       "        vertical-align: middle;\n",
       "    }\n",
       "\n",
       "    .dataframe tbody tr th {\n",
       "        vertical-align: top;\n",
       "    }\n",
       "\n",
       "    .dataframe thead th {\n",
       "        text-align: right;\n",
       "    }\n",
       "</style>\n",
       "<table border=\"1\" class=\"dataframe\">\n",
       "  <thead>\n",
       "    <tr style=\"text-align: right;\">\n",
       "      <th></th>\n",
       "      <th></th>\n",
       "      <th>cantidad</th>\n",
       "    </tr>\n",
       "    <tr>\n",
       "      <th>cluster</th>\n",
       "      <th>0</th>\n",
       "      <th></th>\n",
       "    </tr>\n",
       "  </thead>\n",
       "  <tbody>\n",
       "    <tr>\n",
       "      <th rowspan=\"30\" valign=\"top\">-1</th>\n",
       "      <th>- consulta promociones articulos ocn compra 100 capsulas?</th>\n",
       "      <td>1</td>\n",
       "    </tr>\n",
       "    <tr>\n",
       "      <th>-quiero retirarlo pick up point alto palermo</th>\n",
       "      <td>1</td>\n",
       "    </tr>\n",
       "    <tr>\n",
       "      <th>. acabo hacer compra on line retirar boutique alto palermo iré retirarla vivo 200 km irá nuera. pedido dastos. debo hacer?</th>\n",
       "      <td>1</td>\n",
       "    </tr>\n",
       "    <tr>\n",
       "      <th>. acabo registrar ahora puede ingresar usuario</th>\n",
       "      <td>1</td>\n",
       "    </tr>\n",
       "    <tr>\n",
       "      <th>. algun inconveniente ingresarponfgo mail contraseña acepta</th>\n",
       "      <td>1</td>\n",
       "    </tr>\n",
       "    <tr>\n",
       "      <th>. ayer local unicenter mandaron mail link debo ingresar actualizar contraseña. hacerlo dice link utilizado puedo volver hacerlo</th>\n",
       "      <td>1</td>\n",
       "    </tr>\n",
       "    <tr>\n",
       "      <th>. ayer realice compra tomaron datos.me dijeron registrarme ubico lugar debo ingresar nro miembro</th>\n",
       "      <td>1</td>\n",
       "    </tr>\n",
       "    <tr>\n",
       "      <th>. comprando 100 cápsulas permite hacer envío domicilio</th>\n",
       "      <td>1</td>\n",
       "    </tr>\n",
       "    <tr>\n",
       "      <th>. compre maquina mayo. quiero hacer pedido tengo.nro cliente</th>\n",
       "      <td>1</td>\n",
       "    </tr>\n",
       "    <tr>\n",
       "      <th>. compré primera caffetera inissio fravega aeroccino. todavía entregaron quería ver lugares puedo comprar capsulas</th>\n",
       "      <td>1</td>\n",
       "    </tr>\n",
       "    <tr>\n",
       "      <th>. creo haber olvidado clave ingreso. podrán enviar correo?</th>\n",
       "      <td>1</td>\n",
       "    </tr>\n",
       "    <tr>\n",
       "      <th>. cuál num código promocional?</th>\n",
       "      <td>1</td>\n",
       "    </tr>\n",
       "    <tr>\n",
       "      <th>. código promocional cliente frecuente?</th>\n",
       "      <td>1</td>\n",
       "    </tr>\n",
       "    <tr>\n",
       "      <th>. código promocional pide?</th>\n",
       "      <td>1</td>\n",
       "    </tr>\n",
       "    <tr>\n",
       "      <th>. deja seleccionar retirar pedido boutique palermo</th>\n",
       "      <td>1</td>\n",
       "    </tr>\n",
       "    <tr>\n",
       "      <th>. essenza type c90 cuyo boton encendido hunde arranca. realizó hace años reparación. informar procedimiento búsqueda pago entrega. gracias</th>\n",
       "      <td>1</td>\n",
       "    </tr>\n",
       "    <tr>\n",
       "      <th>. hace bastante puedo entrar cuenta internet hacer pedidos telefonosocio numero 38680</th>\n",
       "      <td>1</td>\n",
       "    </tr>\n",
       "    <tr>\n",
       "      <th>. hace semana compre capsulas entregaron aunmande mail</th>\n",
       "      <td>1</td>\n",
       "    </tr>\n",
       "    <tr>\n",
       "      <th>. hacer pedido. factura quieren cobrar percepción iibb corresponde profesional. hago igual ustedes corrijen factura entregan?</th>\n",
       "      <td>1</td>\n",
       "    </tr>\n",
       "    <tr>\n",
       "      <th>. haciendo pedido retirar alto palermo. necesito factura a.</th>\n",
       "      <td>1</td>\n",
       "    </tr>\n",
       "    <tr>\n",
       "      <th>. haciendo pedido retirar boutique nepresso encunetor campo indico persona va retirar</th>\n",
       "      <td>1</td>\n",
       "    </tr>\n",
       "    <tr>\n",
       "      <th>. hago pedido mas 100 capsulas general pedido asi realizan algun obsequio momento ofrecen. puede ser?</th>\n",
       "      <td>1</td>\n",
       "    </tr>\n",
       "    <tr>\n",
       "      <th>. hago pregunta. reciencompre 150 capsulas pagina traigan domicilio. bonbonniere regalan compra tambien entregas domicilio?</th>\n",
       "      <td>1</td>\n",
       "    </tr>\n",
       "    <tr>\n",
       "      <th>. hago.para obtener cupon descuento. recién miembro. gracias</th>\n",
       "      <td>1</td>\n",
       "    </tr>\n",
       "    <tr>\n",
       "      <th>. hice pedido hago pasar pago tarjeta q permite abrir pestaña. gcias</th>\n",
       "      <td>1</td>\n",
       "    </tr>\n",
       "    <tr>\n",
       "      <th>. intentando definir pick-up point garbarino nordeltaav. lagos 7010</th>\n",
       "      <td>1</td>\n",
       "    </tr>\n",
       "    <tr>\n",
       "      <th>. intentando entrar ususario indica contraseña válida. nunca hice compras internet si número socio</th>\n",
       "      <td>1</td>\n",
       "    </tr>\n",
       "    <tr>\n",
       "      <th>. llego mail anuncia descuento $ 200 pagar aparece</th>\n",
       "      <td>1</td>\n",
       "    </tr>\n",
       "    <tr>\n",
       "      <th>. llegó mail informan comprando 150 cápsulas gratis porta cápsulas bonbonniere. realizando pedido ningún momento deja agregar bonbonniere carrito</th>\n",
       "      <td>1</td>\n",
       "    </tr>\n",
       "    <tr>\n",
       "      <th>. mail promoción dice descuento 200 $ compras retiro pick up points. llegué pago descuento aparece. cómo tramitarlo?</th>\n",
       "      <td>1</td>\n",
       "    </tr>\n",
       "    <tr>\n",
       "      <th>...</th>\n",
       "      <th>...</th>\n",
       "      <td>...</td>\n",
       "    </tr>\n",
       "    <tr>\n",
       "      <th rowspan=\"20\" valign=\"top\">5</th>\n",
       "      <th>atascado completer pedido</th>\n",
       "      <td>1</td>\n",
       "    </tr>\n",
       "    <tr>\n",
       "      <th>bien viendo armar pedido consulta</th>\n",
       "      <td>1</td>\n",
       "    </tr>\n",
       "    <tr>\n",
       "      <th>buenasquisiera realizar pedido pasarlo buscar yuoyono enviencomo selecciono opcion_</th>\n",
       "      <td>1</td>\n",
       "    </tr>\n",
       "    <tr>\n",
       "      <th>deseo pedido entregado cot 103 colon rios</th>\n",
       "      <td>1</td>\n",
       "    </tr>\n",
       "    <tr>\n",
       "      <th>despues pedido ir</th>\n",
       "      <td>1</td>\n",
       "    </tr>\n",
       "    <tr>\n",
       "      <th>estas?? pedido recibiria dia lunes ?</th>\n",
       "      <td>1</td>\n",
       "    </tr>\n",
       "    <tr>\n",
       "      <th>finalizo pedido</th>\n",
       "      <td>1</td>\n",
       "    </tr>\n",
       "    <tr>\n",
       "      <th>haciendo pedido café. marco pedido retiren bolsa llena reciclar</th>\n",
       "      <td>1</td>\n",
       "    </tr>\n",
       "    <tr>\n",
       "      <th>haga cerrar pedido ?</th>\n",
       "      <td>1</td>\n",
       "    </tr>\n",
       "    <tr>\n",
       "      <th>jonatan molesto pues procesa pedido</th>\n",
       "      <td>1</td>\n",
       "    </tr>\n",
       "    <tr>\n",
       "      <th>llego pedidoestimados . llegado pedido solicite. comunique correo andreani informaron volvieron enviar pedido ustedes falta información direccion. podrían enviarlo nuevamente favor? envío n° 25554358 (nro. andreani 310000004738955) dirección: crisantemos 265 edificio skyglass 1 oficina 108. (detrás restaurante kansas) km 435 panamericana. podrán confirmar favor si vuelven enviar?</th>\n",
       "      <td>1</td>\n",
       "    </tr>\n",
       "    <tr>\n",
       "      <th>modificar pedido</th>\n",
       "      <td>1</td>\n",
       "    </tr>\n",
       "    <tr>\n",
       "      <th>pedido cobran ingresos brutos?</th>\n",
       "      <td>1</td>\n",
       "    </tr>\n",
       "    <tr>\n",
       "      <th>pedido llevan casa retirarlo</th>\n",
       "      <td>1</td>\n",
       "    </tr>\n",
       "    <tr>\n",
       "      <th>pedido regalo ?me dijeron porta cápsulascomprando 100100 0</th>\n",
       "      <td>1</td>\n",
       "    </tr>\n",
       "    <tr>\n",
       "      <th>posibilidad cambiar pedido?</th>\n",
       "      <td>1</td>\n",
       "    </tr>\n",
       "    <tr>\n",
       "      <th>quise modificar pedido desapareció</th>\n",
       "      <td>1</td>\n",
       "    </tr>\n",
       "    <tr>\n",
       "      <th>r favor enviar pedido dirección particular”barrio celina</th>\n",
       "      <td>1</td>\n",
       "    </tr>\n",
       "    <tr>\n",
       "      <th>realizando pedido tildo paso 3</th>\n",
       "      <td>1</td>\n",
       "    </tr>\n",
       "    <tr>\n",
       "      <th>retire tercero pedido ?</th>\n",
       "      <td>1</td>\n",
       "    </tr>\n",
       "    <tr>\n",
       "      <th rowspan=\"10\" valign=\"top\">6</th>\n",
       "      <th>algun codigo promocional?</th>\n",
       "      <td>1</td>\n",
       "    </tr>\n",
       "    <tr>\n",
       "      <th>buscando codigo promocional</th>\n",
       "      <td>1</td>\n",
       "    </tr>\n",
       "    <tr>\n",
       "      <th>codigo promocional es?</th>\n",
       "      <td>1</td>\n",
       "    </tr>\n",
       "    <tr>\n",
       "      <th>codigo promocional? q piden?</th>\n",
       "      <td>1</td>\n",
       "    </tr>\n",
       "    <tr>\n",
       "      <th>cuál codigo promocional</th>\n",
       "      <td>1</td>\n",
       "    </tr>\n",
       "    <tr>\n",
       "      <th>falta codigo promocional...</th>\n",
       "      <td>1</td>\n",
       "    </tr>\n",
       "    <tr>\n",
       "      <th>ignoro codigo promocional</th>\n",
       "      <td>1</td>\n",
       "    </tr>\n",
       "    <tr>\n",
       "      <th>obtengo codigo promocional?</th>\n",
       "      <td>1</td>\n",
       "    </tr>\n",
       "    <tr>\n",
       "      <th>saco codigo promocional?</th>\n",
       "      <td>1</td>\n",
       "    </tr>\n",
       "    <tr>\n",
       "      <th>ubico codigo promocional</th>\n",
       "      <td>1</td>\n",
       "    </tr>\n",
       "  </tbody>\n",
       "</table>\n",
       "<p>1707 rows × 1 columns</p>\n",
       "</div>"
      ],
      "text/plain": [
       "                                                            cantidad\n",
       "cluster 0                                                           \n",
       "-1      - consulta promociones articulos ocn compra 100...         1\n",
       "        -quiero retirarlo pick up point alto palermo               1\n",
       "        . acabo hacer compra on line retirar boutique a...         1\n",
       "        . acabo registrar ahora puede ingresar usuario             1\n",
       "        . algun inconveniente ingresarponfgo mail contr...         1\n",
       "        . ayer local unicenter mandaron mail link debo ...         1\n",
       "        . ayer realice compra tomaron datos.me dijeron ...         1\n",
       "        . comprando 100 cápsulas permite hacer envío do...         1\n",
       "        . compre maquina mayo. quiero hacer pedido teng...         1\n",
       "        . compré primera caffetera inissio fravega aero...         1\n",
       "        . creo haber olvidado clave ingreso. podrán env...         1\n",
       "        . cuál num código promocional?                             1\n",
       "        . código promocional cliente frecuente?                    1\n",
       "        . código promocional pide?                                 1\n",
       "        . deja seleccionar retirar pedido boutique palermo         1\n",
       "        . essenza type c90 cuyo boton encendido hunde a...         1\n",
       "        . hace bastante puedo entrar cuenta internet ha...         1\n",
       "        . hace semana compre capsulas entregaron aunman...         1\n",
       "        . hacer pedido. factura quieren cobrar percepci...         1\n",
       "        . haciendo pedido retirar alto palermo. necesit...         1\n",
       "        . haciendo pedido retirar boutique nepresso enc...         1\n",
       "        . hago pedido mas 100 capsulas general pedido a...         1\n",
       "        . hago pregunta. reciencompre 150 capsulas pagi...         1\n",
       "        . hago.para obtener cupon descuento. recién mie...         1\n",
       "        . hice pedido hago pasar pago tarjeta q permite...         1\n",
       "        . intentando definir pick-up point garbarino no...         1\n",
       "        . intentando entrar ususario indica contraseña ...         1\n",
       "        . llego mail anuncia descuento $ 200 pagar aparece         1\n",
       "        . llegó mail informan comprando 150 cápsulas gr...         1\n",
       "        . mail promoción dice descuento 200 $ compras r...         1\n",
       "...                                                              ...\n",
       " 5      atascado completer pedido                                  1\n",
       "        bien viendo armar pedido consulta                          1\n",
       "        buenasquisiera realizar pedido pasarlo buscar y...         1\n",
       "        deseo pedido entregado cot 103 colon rios                  1\n",
       "        despues pedido ir                                          1\n",
       "        estas?? pedido recibiria dia lunes ?                       1\n",
       "        finalizo pedido                                            1\n",
       "        haciendo pedido café. marco pedido retiren bols...         1\n",
       "        haga cerrar pedido ?                                       1\n",
       "        jonatan molesto pues procesa pedido                        1\n",
       "        llego pedidoestimados . llegado pedido solicite...         1\n",
       "        modificar pedido                                           1\n",
       "        pedido cobran ingresos brutos?                             1\n",
       "        pedido llevan casa retirarlo                               1\n",
       "        pedido regalo ?me dijeron porta cápsulascompran...         1\n",
       "        posibilidad cambiar pedido?                                1\n",
       "        quise modificar pedido desapareció                         1\n",
       "        r favor enviar pedido dirección particular”barr...         1\n",
       "        realizando pedido tildo paso 3                             1\n",
       "        retire tercero pedido ?                                    1\n",
       " 6      algun codigo promocional?                                  1\n",
       "        buscando codigo promocional                                1\n",
       "        codigo promocional es?                                     1\n",
       "        codigo promocional? q piden?                               1\n",
       "        cuál codigo promocional                                    1\n",
       "        falta codigo promocional...                                1\n",
       "        ignoro codigo promocional                                  1\n",
       "        obtengo codigo promocional?                                1\n",
       "        saco codigo promocional?                                   1\n",
       "        ubico codigo promocional                                   1\n",
       "\n",
       "[1707 rows x 1 columns]"
      ]
     },
     "execution_count": 352,
     "metadata": {},
     "output_type": "execute_result"
    }
   ],
   "source": [
    "dataframe_preguntas.groupby([\"cluster\", 0]).agg({\"cantidad\":\"sum\"})"
   ]
  },
  {
   "cell_type": "code",
   "execution_count": null,
   "metadata": {},
   "outputs": [],
   "source": []
  }
 ],
 "metadata": {
  "kernelspec": {
   "display_name": "Python 3",
   "language": "python",
   "name": "python3"
  },
  "language_info": {
   "codemirror_mode": {
    "name": "ipython",
    "version": 3
   },
   "file_extension": ".py",
   "mimetype": "text/x-python",
   "name": "python",
   "nbconvert_exporter": "python",
   "pygments_lexer": "ipython3",
   "version": "3.7.2"
  }
 },
 "nbformat": 4,
 "nbformat_minor": 2
}
