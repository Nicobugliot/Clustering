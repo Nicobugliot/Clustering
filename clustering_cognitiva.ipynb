{
 "cells": [
  {
   "cell_type": "code",
   "execution_count": 96,
   "metadata": {},
   "outputs": [],
   "source": [
    "import pandas as pd\n",
    "import numpy as np\n",
    "from sklearn.feature_extraction.text import TfidfVectorizer, CountVectorizer\n",
    "from sklearn.manifold import TSNE\n",
    "from sklearn.decomposition import TruncatedSVD"
   ]
  },
  {
   "cell_type": "code",
   "execution_count": 10,
   "metadata": {},
   "outputs": [],
   "source": [
    "df = pd.read_csv(\"logs_limpios.csv\")"
   ]
  },
  {
   "cell_type": "code",
   "execution_count": 11,
   "metadata": {},
   "outputs": [],
   "source": [
    "text_list = df[\"Preguntas\"].to_list()"
   ]
  },
  {
   "cell_type": "markdown",
   "metadata": {},
   "source": [
    "---\n",
    "> ### 1: ***Stemizar y sacar las stopwords del texto***\n",
    "---"
   ]
  },
  {
   "cell_type": "code",
   "execution_count": 147,
   "metadata": {},
   "outputs": [],
   "source": [
    "from nltk import word_tokenize\n",
    "from nltk.stem import SnowballStemmer\n",
    "import nltk\n",
    "from nltk.corpus import stopwords\n",
    "\n",
    "stemmer = SnowballStemmer('spanish')\n",
    "cachedStopWords = stopwords.words('spanish')\n",
    "\n",
    "\n",
    "def clean_text(text_list):\n",
    "    for i in range(len(text_list)):\n",
    "        text = ' '.join([stemmer.stem(word) for word in text_list[i].split() if word not in cachedStopWords])\n",
    "        text_list[i] = text\n",
    "    return text_list"
   ]
  },
  {
   "cell_type": "code",
   "execution_count": 149,
   "metadata": {},
   "outputs": [],
   "source": [
    "text_list = clean_text(text_list)"
   ]
  },
  {
   "cell_type": "markdown",
   "metadata": {},
   "source": [
    "---\n",
    "> ### 2: ***Vectorizar el texto utilizando Tf-idf (TfidfVectorizer) o BOW (CountVectorizer)***\n",
    "\n",
    "### Diferencias entre las dos\n",
    "---"
   ]
  },
  {
   "cell_type": "code",
   "execution_count": 202,
   "metadata": {},
   "outputs": [],
   "source": [
    "vectorizer_tfidf = TfidfVectorizer()\n",
    "vectorizer_bow = CountVectorizer()"
   ]
  },
  {
   "cell_type": "code",
   "execution_count": 203,
   "metadata": {},
   "outputs": [],
   "source": [
    "data = vectorizer_tfidf.fit_transform(text_list)"
   ]
  },
  {
   "cell_type": "code",
   "execution_count": 213,
   "metadata": {},
   "outputs": [],
   "source": [
    "svd = TruncatedSVD(n_components=10)\n",
    "svd_truncated = svd.fit_transform(data)"
   ]
  },
  {
   "cell_type": "code",
   "execution_count": 214,
   "metadata": {},
   "outputs": [],
   "source": [
    "# method = 'exact' corre un algorito más exacto pero de complejidad O(N^2)\n",
    "\n",
    "data_2d = TSNE(n_components=2, early_exaggeration=20, perplexity=50, n_iter=5000)\n",
    "data_2d = data_2d.fit_transform(svd_truncated)"
   ]
  },
  {
   "cell_type": "code",
   "execution_count": 226,
   "metadata": {},
   "outputs": [],
   "source": [
    "data_plot = data_2d"
   ]
  },
  {
   "cell_type": "markdown",
   "metadata": {},
   "source": [
    "---\n",
    "> ### Tipo de clustering: ***K-MEANS***\n",
    "---"
   ]
  },
  {
   "cell_type": "code",
   "execution_count": 263,
   "metadata": {},
   "outputs": [],
   "source": [
    "from sklearn.cluster import KMeans\n",
    "kmeans = KMeans(n_clusters=20, random_state=0).fit_predict(data_plot)"
   ]
  },
  {
   "cell_type": "code",
   "execution_count": 264,
   "metadata": {},
   "outputs": [
    {
     "name": "stdout",
     "output_type": "stream",
     "text": [
      "---> La cantidad de clusters detectados fueron de 20\n"
     ]
    }
   ],
   "source": [
    "plotly.offline.plot(data_plot_image(data_plot, kmeans));"
   ]
  },
  {
   "cell_type": "markdown",
   "metadata": {},
   "source": [
    "---\n",
    "> ### Tipo de clustering: ***Spectral Clustering***\n",
    "---"
   ]
  },
  {
   "cell_type": "code",
   "execution_count": 265,
   "metadata": {},
   "outputs": [
    {
     "name": "stdout",
     "output_type": "stream",
     "text": [
      "CPU times: user 38 s, sys: 6.62 s, total: 44.6 s\n",
      "Wall time: 11.3 s\n"
     ]
    }
   ],
   "source": [
    "%%time\n",
    "from sklearn.cluster import SpectralClustering\n",
    "spectral_clustering = SpectralClustering(n_clusters=20, assign_labels=\"discretize\", random_state=0).fit(data_plot)"
   ]
  },
  {
   "cell_type": "code",
   "execution_count": 266,
   "metadata": {},
   "outputs": [
    {
     "name": "stdout",
     "output_type": "stream",
     "text": [
      "---> La cantidad de clusters detectados fueron de 20\n"
     ]
    }
   ],
   "source": [
    "plotly.offline.plot(data_plot_image(data_plot, spectral_clustering.labels_));"
   ]
  },
  {
   "cell_type": "markdown",
   "metadata": {},
   "source": [
    "---\n",
    "> ### Tipo de clustering: ***DBSCAN***\n",
    "---"
   ]
  },
  {
   "cell_type": "code",
   "execution_count": 192,
   "metadata": {},
   "outputs": [],
   "source": [
    "from sklearn.cluster import DBSCAN"
   ]
  },
  {
   "cell_type": "code",
   "execution_count": 267,
   "metadata": {},
   "outputs": [],
   "source": [
    "# eps es el hiper-parámetro que define el radio del radar.\n",
    "dbscan_clustering = DBSCAN(eps=3.3, min_samples=15).fit(data_plot)"
   ]
  },
  {
   "cell_type": "code",
   "execution_count": null,
   "metadata": {},
   "outputs": [],
   "source": [
    "plotly.offline.plot(data_plot_image(data_plot, dbscan_clustering.labels_));"
   ]
  },
  {
   "cell_type": "markdown",
   "metadata": {},
   "source": [
    "---\n",
    "> ### Tipo de clustering: ***HDBSCAN***\n",
    "---"
   ]
  },
  {
   "cell_type": "code",
   "execution_count": 260,
   "metadata": {},
   "outputs": [],
   "source": [
    "import hdbscan"
   ]
  },
  {
   "cell_type": "code",
   "execution_count": 261,
   "metadata": {},
   "outputs": [
    {
     "name": "stdout",
     "output_type": "stream",
     "text": [
      "CPU times: user 37.3 ms, sys: 2.65 ms, total: 39.9 ms\n",
      "Wall time: 39.1 ms\n"
     ]
    }
   ],
   "source": [
    "%%time\n",
    "hdbscan_cluster = hdbscan.HDBSCAN()\n",
    "hdbscan_cluster = hdbscan_cluster.fit(data_plot)"
   ]
  },
  {
   "cell_type": "code",
   "execution_count": 262,
   "metadata": {},
   "outputs": [
    {
     "name": "stdout",
     "output_type": "stream",
     "text": [
      "---> La cantidad de clusters detectados fueron de 41\n"
     ]
    }
   ],
   "source": [
    "plotly.offline.plot(data_plot_image(data_plot, hdbscan_cluster.labels_));"
   ]
  },
  {
   "cell_type": "markdown",
   "metadata": {},
   "source": [
    "---\n",
    "> ### 5: ***Preparación de la data para el ploteo***\n",
    "---"
   ]
  },
  {
   "cell_type": "code",
   "execution_count": 238,
   "metadata": {},
   "outputs": [],
   "source": [
    "def data_plot_image(data_plot, model_cluster):\n",
    "    pos_x = [x[0] for x in data_plot]\n",
    "    pos_y = [x[1] for x in data_plot]\n",
    "    \n",
    "    dic_plot = {}\n",
    "\n",
    "    for i in range(len(model_cluster)):\n",
    "        if model_cluster[i] not in dic_plot:\n",
    "            dic_plot[model_cluster[i]] = [[pos_x[i]],[pos_y[i]], [model_cluster[i]]]\n",
    "        # Agrego la posición en X\n",
    "        dic_plot[model_cluster[i]][0].append(pos_x[i])  \n",
    "        # Agrego la posición en Y\n",
    "        dic_plot[model_cluster[i]][1].append(pos_y[i])    \n",
    "        # Agrego el número de \"cluster\"\n",
    "        dic_plot[model_cluster[i]][2].append(clustering[i])\n",
    "        \n",
    "    # Cantidad de intenciones detectadas\n",
    "    amount_clusters = len(dic_plot.keys())\n",
    "    \n",
    "    import plotly.offline\n",
    "    import plotly.graph_objs as go\n",
    "\n",
    "    plot = []\n",
    "    for intents in dic_plot:\n",
    "        trace = go.Scatter(\n",
    "            x = dic_plot[intents][0],\n",
    "            y = dic_plot[intents][1],\n",
    "            text = dic_plot[intents][2],\n",
    "            mode = 'markers',\n",
    "            marker = dict(\n",
    "                size = 7\n",
    "            )\n",
    "        )\n",
    "        plot.append(trace)\n",
    "        \n",
    "    print(f\"---> La cantidad de clusters detectados fueron de {amount_clusters}\")    \n",
    "    return plot"
   ]
  },
  {
   "cell_type": "code",
   "execution_count": null,
   "metadata": {},
   "outputs": [],
   "source": []
  },
  {
   "cell_type": "code",
   "execution_count": null,
   "metadata": {},
   "outputs": [],
   "source": []
  }
 ],
 "metadata": {
  "kernelspec": {
   "display_name": "Python 3",
   "language": "python",
   "name": "python3"
  },
  "language_info": {
   "codemirror_mode": {
    "name": "ipython",
    "version": 3
   },
   "file_extension": ".py",
   "mimetype": "text/x-python",
   "name": "python",
   "nbconvert_exporter": "python",
   "pygments_lexer": "ipython3",
   "version": "3.7.2"
  }
 },
 "nbformat": 4,
 "nbformat_minor": 2
}
