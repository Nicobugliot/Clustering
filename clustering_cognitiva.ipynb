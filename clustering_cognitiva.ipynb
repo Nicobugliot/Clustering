{
 "cells": [
  {
   "cell_type": "code",
   "execution_count": null,
   "metadata": {},
   "outputs": [],
   "source": [
    "import pandas as pd\n",
    "import numpy as np\n",
    "from sklearn.feature_extraction.text import TfidfVectorizer, CountVectorizer\n",
    "from sklearn.manifold import TSNE\n",
    "from sklearn.decomposition import TruncatedSVD\n",
    "import plotly.offline\n",
    "import plotly.graph_objs as go"
   ]
  },
  {
   "cell_type": "code",
   "execution_count": null,
   "metadata": {},
   "outputs": [],
   "source": [
    "df = pd.read_csv(\"logs_limpios.csv\")"
   ]
  },
  {
   "cell_type": "markdown",
   "metadata": {},
   "source": [
    "---\n",
    "> ### 0: ***Preparación de la data para el ploteo***\n",
    "---"
   ]
  },
  {
   "cell_type": "markdown",
   "metadata": {},
   "source": [
    "---\n",
    "> #### 0.1: ***Limpieza de los ejemplos***\n",
    "---"
   ]
  },
  {
   "cell_type": "code",
   "execution_count": null,
   "metadata": {},
   "outputs": [],
   "source": [
    "df[\"Pregunta\"] = df[\"Pregunta\"].apply(lambda x: ''.join([i for i in x if not i.isdigit()]))"
   ]
  },
  {
   "cell_type": "code",
   "execution_count": null,
   "metadata": {},
   "outputs": [],
   "source": [
    "def data_plot_image(data_plot, model_cluster, text):\n",
    "    pos_x = [x[0] for x in data_plot]\n",
    "    pos_y = [x[1] for x in data_plot]\n",
    "    \n",
    "    dic_plot = {}\n",
    "\n",
    "    for i in range(len(model_cluster)):\n",
    "        if model_cluster[i] not in dic_plot:\n",
    "            dic_plot[model_cluster[i]] = [[pos_x[i]],[pos_y[i]], [model_cluster[i]], [text[i]]]\n",
    "        # Agrego la posición en X\n",
    "        dic_plot[model_cluster[i]][0].append(pos_x[i])  \n",
    "        # Agrego la posición en Y\n",
    "        dic_plot[model_cluster[i]][1].append(pos_y[i])    \n",
    "        # Agrego el número de \"cluster\"\n",
    "        dic_plot[model_cluster[i]][2].append(model_cluster[i])\n",
    "        # Agrego la pregunta\n",
    "        dic_plot[model_cluster[i]][3].append(text[i])\n",
    "        \n",
    "    # Cantidad de intenciones detectadas\n",
    "    amount_clusters = len(dic_plot.keys())\n",
    "\n",
    "    plot = []\n",
    "    for intents in dic_plot:\n",
    "        trace = go.Scatter(\n",
    "            x = dic_plot[intents][0],\n",
    "            y = dic_plot[intents][1],\n",
    "            text = dic_plot[intents][3],\n",
    "            name = str(intents),\n",
    "            mode = 'markers',\n",
    "            marker = dict(\n",
    "                size = 7\n",
    "            )\n",
    "        )\n",
    "        plot.append(trace)\n",
    "        \n",
    "    print(f\"---> La cantidad de clusters detectados fueron de {amount_clusters}\")    \n",
    "    return plot"
   ]
  },
  {
   "cell_type": "markdown",
   "metadata": {},
   "source": [
    "---\n",
    "> ### 1: ***Stemizar y sacar las stopwords del texto***\n",
    "---"
   ]
  },
  {
   "cell_type": "code",
   "execution_count": null,
   "metadata": {},
   "outputs": [],
   "source": [
    "from nltk import word_tokenize\n",
    "from nltk.stem import SnowballStemmer\n",
    "import nltk\n",
    "from nltk.corpus import stopwords\n",
    "\n",
    "stemmer = SnowballStemmer('spanish')\n",
    "cachedStopWords = stopwords.words('spanish')\n",
    "\n",
    "stopwords_add = ['buenos','dias', 'hola', 'gracias', 'muchas', 'ok']\n",
    "cachedStopWords.extend(stopwords_add)\n",
    "\n",
    "\n",
    "def clean_text(text_list):\n",
    "    for i in range(len(text_list)):\n",
    "        text = ' '.join([word for word in text_list[i].split() if word.lower() not in cachedStopWords]) #[stemmer.stem(word) for word in text_list[i].split() if word not in cachedStopWords])\n",
    "        text_list[i] = text\n",
    "    return text_list"
   ]
  },
  {
   "cell_type": "code",
   "execution_count": null,
   "metadata": {},
   "outputs": [],
   "source": [
    "text_list = clean_text(text_list_complete)"
   ]
  },
  {
   "cell_type": "markdown",
   "metadata": {},
   "source": [
    "---\n",
    "> ### 2: ***Vectorizar el texto utilizando Tf-idf (TfidfVectorizer) o BOW (CountVectorizer)***\n",
    "\n",
    "### Diferencias entre las dos\n",
    "---"
   ]
  },
  {
   "cell_type": "code",
   "execution_count": null,
   "metadata": {},
   "outputs": [],
   "source": [
    "vectorizer_tfidf = TfidfVectorizer(ngram_range=(1,2))\n",
    "vectorizer_bow = CountVectorizer(ngram_range=(1,1))"
   ]
  },
  {
   "cell_type": "code",
   "execution_count": null,
   "metadata": {},
   "outputs": [],
   "source": [
    "data = vectorizer_tfidf.fit_transform(text_list)"
   ]
  },
  {
   "cell_type": "markdown",
   "metadata": {},
   "source": [
    "---\n",
    "> ### ***Gráfico de energía***\n",
    "---"
   ]
  },
  {
   "cell_type": "code",
   "execution_count": null,
   "metadata": {},
   "outputs": [],
   "source": [
    "from scipy.sparse.linalg import eigs\n",
    "\n",
    "matrix = np.matmul(data.toarray(), data.toarray().transpose())\n",
    "vals, vecs = eigs(matrix, 20)"
   ]
  },
  {
   "cell_type": "code",
   "execution_count": null,
   "metadata": {},
   "outputs": [],
   "source": [
    "import matplotlib.pyplot as plt\n",
    "\n",
    "plt.figure(figsize=(20,10))\n",
    "plt.plot(vals);"
   ]
  },
  {
   "cell_type": "markdown",
   "metadata": {},
   "source": [
    "---\n",
    "> ### 3: ***Aplicar SVD/PCA y reducir las dimensiones dependiendo del gráfico de energía***\n",
    "---"
   ]
  },
  {
   "cell_type": "code",
   "execution_count": null,
   "metadata": {},
   "outputs": [],
   "source": [
    "svd = TruncatedSVD(n_components=3)\n",
    "svd_truncated = svd.fit_transform(data)"
   ]
  },
  {
   "cell_type": "markdown",
   "metadata": {},
   "source": [
    "---\n",
    "> ### 3.1: ***Aplicar T-SNE para reducir todo a 2 dimensiones***\n",
    "---"
   ]
  },
  {
   "cell_type": "code",
   "execution_count": null,
   "metadata": {},
   "outputs": [],
   "source": [
    "# method = 'exact' corre un algorito más exacto pero de complejidad O(N^2)\n",
    "\n",
    "data_2d = TSNE(n_components=2, n_iter=1000, metric='cosine')\n",
    "data_2d = data_2d.fit_transform(svd_truncated)\n",
    "data_plot = data_2d"
   ]
  },
  {
   "cell_type": "markdown",
   "metadata": {},
   "source": [
    "---\n",
    "> ### 4: ***Ploteo la data para ver qué algoritmo de clustering utilizar***\n",
    "---"
   ]
  },
  {
   "cell_type": "code",
   "execution_count": null,
   "metadata": {},
   "outputs": [],
   "source": [
    "plot = []\n",
    "pos_x = [x[0] for x in data_plot]\n",
    "pos_y = [x[1] for x in data_plot]\n",
    "\n",
    "trace = go.Scatter(\n",
    "    x = pos_x,\n",
    "    y = pos_y,\n",
    "    text = df_caja[\"Pregunta\"].to_list(),\n",
    "    mode = 'markers',\n",
    "    marker = dict(\n",
    "        size = 4\n",
    "    )\n",
    ")\n",
    "plot.append(trace)\n",
    "plotly.offline.plot(plot)"
   ]
  },
  {
   "cell_type": "markdown",
   "metadata": {},
   "source": [
    "---\n",
    "> ### Tipo de clustering: ***K-MEANS++***\n",
    "---"
   ]
  },
  {
   "cell_type": "code",
   "execution_count": null,
   "metadata": {},
   "outputs": [],
   "source": [
    "from sklearn.cluster import KMeans\n",
    "kmeans = KMeans(n_clusters=15, random_state=0).fit_predict(data_plot)"
   ]
  },
  {
   "cell_type": "code",
   "execution_count": null,
   "metadata": {},
   "outputs": [],
   "source": [
    "plotly.offline.plot(data_plot_image(data_plot, kmeans, text_list_complete));"
   ]
  },
  {
   "cell_type": "markdown",
   "metadata": {},
   "source": [
    "---\n",
    "> ### Tipo de clustering: ***Spectral Clustering***\n",
    "---"
   ]
  },
  {
   "cell_type": "code",
   "execution_count": null,
   "metadata": {},
   "outputs": [],
   "source": [
    "%%time\n",
    "from sklearn.cluster import SpectralClustering\n",
    "spectral_clustering = SpectralClustering(n_clusters=15, assign_labels=\"discretize\", random_state=0).fit(data_plot)"
   ]
  },
  {
   "cell_type": "code",
   "execution_count": null,
   "metadata": {},
   "outputs": [],
   "source": [
    "plotly.offline.plot(data_plot_image(data_plot, spectral_clustering.labels_, text_list_complete));"
   ]
  },
  {
   "cell_type": "markdown",
   "metadata": {},
   "source": [
    "---\n",
    "> ### Tipo de clustering: ***DBSCAN***\n",
    "---"
   ]
  },
  {
   "cell_type": "code",
   "execution_count": null,
   "metadata": {},
   "outputs": [],
   "source": [
    "from sklearn.cluster import DBSCAN"
   ]
  },
  {
   "cell_type": "code",
   "execution_count": null,
   "metadata": {},
   "outputs": [],
   "source": [
    "# eps es el hiper-parámetro que define el radio del radar.\n",
    "dbscan_clustering = DBSCAN(eps=4, min_samples=15).fit(data_plot)"
   ]
  },
  {
   "cell_type": "code",
   "execution_count": null,
   "metadata": {},
   "outputs": [],
   "source": [
    "plotly.offline.plot(data_plot_image(data_plot, dbscan_clustering.labels_, text_list_complete));"
   ]
  },
  {
   "cell_type": "markdown",
   "metadata": {},
   "source": [
    "---\n",
    "> ### Tipo de clustering: ***HDBSCAN***\n",
    "---"
   ]
  },
  {
   "cell_type": "code",
   "execution_count": null,
   "metadata": {},
   "outputs": [],
   "source": [
    "import hdbscan"
   ]
  },
  {
   "cell_type": "code",
   "execution_count": null,
   "metadata": {},
   "outputs": [],
   "source": [
    "%%time\n",
    "hdbscan_cluster = hdbscan.HDBSCAN()\n",
    "hdbscan_cluster = hdbscan_cluster.fit(data_plot)"
   ]
  },
  {
   "cell_type": "code",
   "execution_count": null,
   "metadata": {},
   "outputs": [],
   "source": [
    "plotly.offline.plot(data_plot_image(data_plot, hdbscan_cluster.labels_, text_list_complete));"
   ]
  },
  {
   "cell_type": "markdown",
   "metadata": {},
   "source": [
    "---\n",
    "> ### Clustering: ***Datos en N dimensiones***\n",
    "---"
   ]
  }
 ],
 "metadata": {
  "kernelspec": {
   "display_name": "Python 3",
   "language": "python",
   "name": "python3"
  },
  "language_info": {
   "codemirror_mode": {
    "name": "ipython",
    "version": 3
   },
   "file_extension": ".py",
   "mimetype": "text/x-python",
   "name": "python",
   "nbconvert_exporter": "python",
   "pygments_lexer": "ipython3",
   "version": "3.7.2"
  }
 },
 "nbformat": 4,
 "nbformat_minor": 2
}
